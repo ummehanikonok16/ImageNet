{
  "cells": [
    {
      "cell_type": "markdown",
      "metadata": {
        "id": "view-in-github",
        "colab_type": "text"
      },
      "source": [
        "<a href=\"https://colab.research.google.com/github/ummehanikonok16/ImageNet/blob/main/imageNet.ipynb\" target=\"_parent\"><img src=\"https://colab.research.google.com/assets/colab-badge.svg\" alt=\"Open In Colab\"/></a>"
      ]
    },
    {
      "cell_type": "code",
      "execution_count": null,
      "metadata": {
        "id": "spAVc7D43ytF"
      },
      "outputs": [],
      "source": [
        "import os\n",
        "import numpy as np\n",
        "import tensorflow as tf\n",
        "from tensorflow.keras.preprocessing.image import ImageDataGenerator\n",
        "from tensorflow.keras.applications import ResNet50\n",
        "from tensorflow.keras.layers import Dense, GlobalAveragePooling2D\n",
        "from tensorflow.keras.models import Model\n",
        "from sklearn.metrics import classification_report"
      ]
    },
    {
      "cell_type": "code",
      "execution_count": null,
      "metadata": {
        "colab": {
          "base_uri": "https://localhost:8080/"
        },
        "id": "BI7x1BJqAX6x",
        "outputId": "bc2bf499-1c2f-4d27-d2bd-f82b41e62c57"
      },
      "outputs": [
        {
          "name": "stdout",
          "output_type": "stream",
          "text": [
            "Drive already mounted at /content/drive; to attempt to forcibly remount, call drive.mount(\"/content/drive\", force_remount=True).\n"
          ]
        }
      ],
      "source": [
        "from google.colab import drive\n",
        "drive.mount('/content/drive')"
      ]
    },
    {
      "cell_type": "code",
      "execution_count": null,
      "metadata": {
        "id": "PaJaoyIa_zBi"
      },
      "outputs": [],
      "source": [
        "data_dir = r'/content/drive/MyDrive/AAV/train_val_photos-20240207T143515Z-001/train_val_photos'"
      ]
    },
    {
      "cell_type": "code",
      "source": [
        "transform = transforms.Compose([\n",
        "    transforms.Resize((224, 224)),\n",
        "    transforms.Grayscale(num_output_channels=3),  # Convert to 3-channel grayscale\n",
        "    transforms.ToTensor(),\n",
        "])"
      ],
      "metadata": {
        "id": "lXVI-7KPQI2V"
      },
      "execution_count": null,
      "outputs": []
    },
    {
      "cell_type": "code",
      "source": [
        "from torchvision.datasets import ImageFolder\n",
        "dataset = ImageFolder(root=data_dir, transform=transform)"
      ],
      "metadata": {
        "id": "ybJaW8AeQI4s"
      },
      "execution_count": null,
      "outputs": []
    },
    {
      "cell_type": "code",
      "source": [
        "from torch.utils.data import DataLoader, random_split\n",
        "train_size = int(0.8 * len(dataset))\n",
        "val_size = len(dataset) - train_size\n",
        "train_dataset, val_dataset = random_split(dataset, [train_size, val_size])"
      ],
      "metadata": {
        "id": "XslprSXGQI6-"
      },
      "execution_count": null,
      "outputs": []
    },
    {
      "cell_type": "code",
      "source": [
        "train_loader = DataLoader(train_dataset, batch_size=32, shuffle=True)\n",
        "val_loader = DataLoader(val_dataset, batch_size=32, shuffle=False)"
      ],
      "metadata": {
        "id": "q9MWBCSRQI9Z"
      },
      "execution_count": null,
      "outputs": []
    },
    {
      "cell_type": "code",
      "execution_count": null,
      "metadata": {
        "id": "8jZX8Hc0DRpU"
      },
      "outputs": [],
      "source": [
        "np.random.seed(42)\n",
        "tf.random.set_seed(42)"
      ]
    },
    {
      "cell_type": "code",
      "execution_count": null,
      "metadata": {
        "id": "wnSo2BihCyyd"
      },
      "outputs": [],
      "source": [
        "from torchvision import transforms\n",
        "transform = transforms.Compose([\n",
        "    transforms.Resize((224, 224)),\n",
        "    transforms.Grayscale(num_output_channels=3),  # Convert to 3-channel grayscale\n",
        "    transforms.ToTensor(),\n",
        "])"
      ]
    },
    {
      "cell_type": "code",
      "execution_count": null,
      "metadata": {
        "id": "tBdHXobdDWYp"
      },
      "outputs": [],
      "source": [
        "IMG_HEIGHT, IMG_WIDTH = 224, 224\n",
        "BATCH_SIZE = 32\n",
        "NUM_CLASSES = len(os.listdir('/content/drive/MyDrive/AAV/train_val_photos-20240207T143515Z-001/train_val_photos'))"
      ]
    },
    {
      "cell_type": "code",
      "execution_count": null,
      "metadata": {
        "id": "UVeYDnNFDkjJ"
      },
      "outputs": [],
      "source": [
        "train_datagen = ImageDataGenerator(\n",
        "    rescale=1./255,\n",
        "    rotation_range=20,\n",
        "    width_shift_range=0.2,\n",
        "    height_shift_range=0.2,\n",
        "    shear_range=0.2,\n",
        "    zoom_range=0.2,\n",
        "    horizontal_flip=True,\n",
        "    fill_mode='nearest'\n",
        ")"
      ]
    },
    {
      "cell_type": "code",
      "execution_count": null,
      "metadata": {
        "id": "Ggi_Kl8cDsLE"
      },
      "outputs": [],
      "source": [
        "test_datagen = ImageDataGenerator(rescale=1./255)"
      ]
    },
    {
      "cell_type": "code",
      "execution_count": null,
      "metadata": {
        "colab": {
          "base_uri": "https://localhost:8080/"
        },
        "id": "COamEYbsDsav",
        "outputId": "251d18dd-5082-4128-c9a1-a9ebfb12dcc3"
      },
      "outputs": [
        {
          "output_type": "stream",
          "name": "stdout",
          "text": [
            "Found 1937 images belonging to 3 classes.\n"
          ]
        }
      ],
      "source": [
        "train_generator = train_datagen.flow_from_directory(\n",
        "    '/content/drive/MyDrive/AAV/train_val_photos-20240207T143515Z-001/train_val_photos',\n",
        "    target_size=(IMG_HEIGHT, IMG_WIDTH),\n",
        "    batch_size=BATCH_SIZE,\n",
        "    class_mode='categorical'\n",
        ")"
      ]
    },
    {
      "cell_type": "code",
      "execution_count": null,
      "metadata": {
        "colab": {
          "base_uri": "https://localhost:8080/"
        },
        "id": "4_A6wd1QDsgp",
        "outputId": "30512895-1df7-4a33-e81c-b112bcb926e1"
      },
      "outputs": [
        {
          "output_type": "stream",
          "name": "stdout",
          "text": [
            "Found 1937 images belonging to 3 classes.\n"
          ]
        }
      ],
      "source": [
        "validation_generator = test_datagen.flow_from_directory(\n",
        "    '/content/drive/MyDrive/AAV/train_val_photos-20240207T143515Z-001/train_val_photos',\n",
        "    target_size=(IMG_HEIGHT, IMG_WIDTH),\n",
        "    batch_size=BATCH_SIZE,\n",
        "    class_mode='categorical'\n",
        ")"
      ]
    },
    {
      "cell_type": "code",
      "execution_count": null,
      "metadata": {
        "id": "kLnq0ayHDsi6"
      },
      "outputs": [],
      "source": [
        "base_model = ResNet50(weights='imagenet', include_top=False)"
      ]
    },
    {
      "cell_type": "code",
      "execution_count": null,
      "metadata": {
        "id": "8qNEOQIBEuxr"
      },
      "outputs": [],
      "source": [
        "x = base_model.output\n",
        "x = GlobalAveragePooling2D()(x)\n",
        "x = Dense(1024, activation='relu')(x)\n",
        "predictions = Dense(NUM_CLASSES, activation='softmax')(x)"
      ]
    },
    {
      "cell_type": "code",
      "execution_count": null,
      "metadata": {
        "id": "hGskFmScGzYu"
      },
      "outputs": [],
      "source": [
        "model = Model(inputs=base_model.input, outputs=predictions)"
      ]
    },
    {
      "cell_type": "code",
      "execution_count": null,
      "metadata": {
        "id": "pRocd5mwGzfd"
      },
      "outputs": [],
      "source": [
        "for layer in base_model.layers:\n",
        "    layer.trainable = False"
      ]
    },
    {
      "cell_type": "code",
      "execution_count": null,
      "metadata": {
        "id": "cseUslyKGziC"
      },
      "outputs": [],
      "source": [
        "model.compile(optimizer='adam', loss='categorical_crossentropy', metrics=['accuracy'])"
      ]
    },
    {
      "cell_type": "code",
      "execution_count": null,
      "metadata": {
        "colab": {
          "base_uri": "https://localhost:8080/"
        },
        "id": "8br2EzHzG7L9",
        "outputId": "e352f450-ca14-4952-a378-2585fab74ccf"
      },
      "outputs": [
        {
          "output_type": "stream",
          "name": "stdout",
          "text": [
            "Epoch 1/10\n",
            "60/60 [==============================] - 473s 8s/step - loss: 1.0709 - accuracy: 0.4866 - val_loss: 0.9939 - val_accuracy: 0.5354\n",
            "Epoch 2/10\n",
            "60/60 [==============================] - 472s 8s/step - loss: 1.0008 - accuracy: 0.5265 - val_loss: 0.8942 - val_accuracy: 0.5203\n",
            "Epoch 3/10\n",
            "60/60 [==============================] - 504s 8s/step - loss: 0.9892 - accuracy: 0.5459 - val_loss: 0.8721 - val_accuracy: 0.6146\n",
            "Epoch 4/10\n",
            "60/60 [==============================] - 504s 8s/step - loss: 0.9489 - accuracy: 0.5465 - val_loss: 0.9433 - val_accuracy: 0.5073\n",
            "Epoch 5/10\n",
            "60/60 [==============================] - 470s 8s/step - loss: 0.9345 - accuracy: 0.5780 - val_loss: 0.9365 - val_accuracy: 0.5604\n",
            "Epoch 6/10\n",
            "60/60 [==============================] - 504s 8s/step - loss: 0.8963 - accuracy: 0.5995 - val_loss: 0.7999 - val_accuracy: 0.6625\n",
            "Epoch 7/10\n",
            "60/60 [==============================] - 504s 8s/step - loss: 0.9002 - accuracy: 0.6021 - val_loss: 0.7970 - val_accuracy: 0.6812\n",
            "Epoch 8/10\n",
            "60/60 [==============================] - 476s 8s/step - loss: 0.9001 - accuracy: 0.5911 - val_loss: 0.9993 - val_accuracy: 0.4885\n",
            "Epoch 9/10\n",
            "60/60 [==============================] - 471s 8s/step - loss: 0.9048 - accuracy: 0.5932 - val_loss: 0.8314 - val_accuracy: 0.6823\n",
            "Epoch 10/10\n",
            "60/60 [==============================] - 464s 8s/step - loss: 0.8842 - accuracy: 0.6026 - val_loss: 0.8804 - val_accuracy: 0.6062\n"
          ]
        },
        {
          "output_type": "execute_result",
          "data": {
            "text/plain": [
              "<keras.src.callbacks.History at 0x7bab0927f5e0>"
            ]
          },
          "metadata": {},
          "execution_count": 59
        }
      ],
      "source": [
        "model.fit(\n",
        "    train_generator,\n",
        "    steps_per_epoch=train_generator.samples // BATCH_SIZE,\n",
        "    epochs=10,\n",
        "    validation_data=validation_generator,\n",
        "    validation_steps=validation_generator.samples // BATCH_SIZE\n",
        ")\n"
      ]
    },
    {
      "cell_type": "code",
      "execution_count": null,
      "metadata": {
        "colab": {
          "base_uri": "https://localhost:8080/"
        },
        "id": "vdIJoHbSG7Tp",
        "outputId": "88776fff-94e2-4a83-ef62-53d379483009"
      },
      "outputs": [
        {
          "output_type": "stream",
          "name": "stdout",
          "text": [
            "Found 1937 images belonging to 3 classes.\n"
          ]
        }
      ],
      "source": [
        "test_generator = test_datagen.flow_from_directory(\n",
        "    '/content/drive/MyDrive/AAV/train_val_photos-20240207T143515Z-001/train_val_photos',\n",
        "    target_size=(IMG_HEIGHT, IMG_WIDTH),\n",
        "    batch_size=1,\n",
        "    class_mode='categorical',\n",
        "    shuffle=False\n",
        ")"
      ]
    },
    {
      "cell_type": "code",
      "execution_count": null,
      "metadata": {
        "colab": {
          "base_uri": "https://localhost:8080/"
        },
        "id": "QKPFJQSkM4OT",
        "outputId": "dc1959d3-ba5f-440e-a286-e805642d48b2"
      },
      "outputs": [
        {
          "output_type": "stream",
          "name": "stdout",
          "text": [
            "1937/1937 [==============================] - 235s 121ms/step\n",
            "              precision    recall  f1-score   support\n",
            "\n",
            "      Double       0.35      0.81      0.49       376\n",
            "       Empty       0.74      0.71      0.72       616\n",
            "      Single       0.88      0.46      0.60       945\n",
            "\n",
            "    accuracy                           0.61      1937\n",
            "   macro avg       0.66      0.66      0.61      1937\n",
            "weighted avg       0.73      0.61      0.62      1937\n",
            "\n"
          ]
        }
      ],
      "source": [
        "predictions = model.predict(test_generator, steps=len(test_generator), verbose=1)\n",
        "predicted_classes = np.argmax(predictions, axis=1)\n",
        "true_classes = test_generator.classes\n",
        "class_labels = list(test_generator.class_indices.keys())\n",
        "\n",
        "print(classification_report(true_classes, predicted_classes, target_names=class_labels))"
      ]
    }
  ],
  "metadata": {
    "colab": {
      "provenance": [],
      "mount_file_id": "1MFnhzihYyrMqKFOgzRIonLn6sgB-ohlu",
      "authorship_tag": "ABX9TyM5vJxIax1qyStRuIKBjrCF",
      "include_colab_link": true
    },
    "kernelspec": {
      "display_name": "Python 3",
      "name": "python3"
    },
    "language_info": {
      "name": "python"
    }
  },
  "nbformat": 4,
  "nbformat_minor": 0
}